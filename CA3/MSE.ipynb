{
 "cells": [
  {
   "cell_type": "markdown",
   "metadata": {},
   "source": [
    "# Mean Square Error\n",
    "### CA3 @ EPS Course\n",
    "\n",
    "#### Instructors: Dr. Tavassolipour, Dr. Vahabie\n",
    "\n",
    "---\n",
    "\n",
    "### Instructions:\n",
    "-  Replace the placeholders (between <font color=\"green\">`## TODO ##`</font> and <font color=\"green\">`## TODO ##`</font>) with the appropriate details.\n",
    "- Ensure you run each cell after you've entered your solution.\n",
    "\n",
    "---\n",
    "\n",
    "*Full Name:* Seyed Mani Hosseini\n",
    "\n",
    "*SID:* 810102552\n",
    "\n",
    "In this exercise, you will investigate the applications of Mean Squared Error (MSE)."
   ]
  },
  {
   "cell_type": "code",
   "execution_count": 2,
   "metadata": {},
   "outputs": [],
   "source": [
    "import numpy as np\n",
    "import matplotlib.pyplot as plt\n",
    "from sklearn import datasets\n",
    "from sklearn.metrics import mean_squared_error"
   ]
  },
  {
   "cell_type": "markdown",
   "metadata": {},
   "source": [
    "# Linear Regression\n",
    "\n",
    "Linear regression is a fundamental statistical method used to model the relationship between a dependent variable and one or more independent variables. The goal is to find the best-fitting line through the data points.\n",
    "\n",
    "The linear regression model can be expressed as:\n",
    "\n",
    "$$ y = f(x) = a x + b$$\n",
    "\n",
    "Where:\n",
    "- $ y $ is the dependent variable.\n",
    "- $ x $ is the independent variable.\n",
    "- $ b $ is the y-intercept.\n",
    "- $ a $ is the slope of the line.\n",
    "\n",
    "We utilize the Mean Squared Error (MSE) approach to determine the coefficients $a$ and $b$ based on a set of sample data. \n",
    "$$ MSE = \\frac{1}{n} \\sum_{i=1}^{n} (y_i - f(x_i))^2 $$\n",
    "\n",
    "Where:\n",
    "- $ n $ is the number of observations.\n",
    "- $(x_i, y_i)$ is a given sample data \n",
    "\n",
    "## Finding the Solution\n",
    "\n",
    "To find the solution for the coefficients $ b $ and $ a $, we can use calculus. The steps are as follows:\n",
    "\n",
    "1. **Set up the error function**:\n",
    "   $$ MSE = \\frac{1}{n} \\sum_{i=1}^{n} (y_i - (a x_i + b))^2 $$\n",
    "\n",
    "2. **Derive the  solution** for $ b $ and $ a $ by taking the partial derivatives of the error function $ MSE $ and setting them to zero. Then solve the equations to find $ b $ and $ a $.\n",
    "\n",
    "   ######################  TODO  ########################\n",
    "   ### Partial Derivative with Respect to \\(a\\):\n",
    "\n",
    "   $$ \\frac{\\partial}{\\partial a} MSE = \\frac{2}{n} \\sum_{i=1}^{n} (y_i - a x_i - b)(-x_i) $$\n",
    "\n",
    "\n",
    "\n",
    "   $$ \\sum_{i=1}^{n} x_i y_i - a \\sum_{i=1}^{n} x_i^2 - b \\sum_{i=1}^{n} x_i = 0 $$\n",
    "\n",
    "   ### Partial Derivative with Respect to \\(b\\):\n",
    "   $$\n",
    "   \\frac{\\partial}{\\partial b} MSE = \\frac{2}{n} \\sum_{i=1}^{n} (y_i - a x_i - b)(-1)\n",
    "   $$\n",
    "   $$\n",
    "   \\sum_{i=1}^{n} y_i - a \\sum_{i=1}^{n} x_i - b n = 0\n",
    "   $$\n",
    "\n",
    "   ### Solution:\n",
    "   $$\n",
    "   a = \\frac{n \\sum x_i y_i - \\sum x_i \\sum y_i}{n \\sum x_i^2 - (\\sum x_i)^2}\n",
    "   $$\n",
    "\n",
    "   $$\n",
    "   b = \\frac{\\sum y_i - a \\sum x_i}{n}\n",
    "   $$\n",
    "   ######################  TODO  ########################"
   ]
  },
  {
   "cell_type": "markdown",
   "metadata": {},
   "source": [
    "then implement it in Python."
   ]
  },
  {
   "cell_type": "code",
   "execution_count": 3,
   "metadata": {},
   "outputs": [],
   "source": [
    "class SimpleLinearRegression:\n",
    "    \"\"\"\n",
    "    A class to represent a simple linear regression model.\n",
    "\n",
    "    Attributes:\n",
    "        slope (float): The slope of the regression line.\n",
    "        intercept (float): The intercept of the regression line.\n",
    "    \"\"\"\n",
    "    def __init__(self):\n",
    "        self.slope: float = 0  # Slope of the regression line\n",
    "        self.intercept: float = 0  # Intercept of the regression line\n",
    "\n",
    "    def fit(self, x: list[float], y: list[float]) -> None:\n",
    "        \"\"\"\n",
    "        Fit the linear regression model to the data.\n",
    "\n",
    "        Args:\n",
    "            x (list[float]): List of independent variable values.\n",
    "            y (list[float]): List of dependent variable values.\n",
    "        \"\"\"\n",
    "        ######################  TODO  ########################\n",
    "        # Calculate slope and intercept based on obtained formula\n",
    "        n = len(x)\n",
    "        sum_xy = sum(xi * yi for xi, yi in zip(x, y))\n",
    "        sum_x = sum(x)\n",
    "        sum_y = sum(y)\n",
    "        sum_x2 = sum(xi ** 2 for xi in x)\n",
    "    \n",
    "        self.slope = (n * sum_xy - sum_x * sum_y) / (n * sum_x2 - sum_x ** 2)\n",
    "        self.intercept = (sum_y - self.slope * sum_x) / n\n",
    "\n",
    "        ######################  TODO  ########################\n",
    "\n",
    "\n",
    "    def predict(self, x: list[float]) -> list[float]:\n",
    "        \"\"\"\n",
    "        Predict the dependent variable values for given independent variable values.\n",
    "\n",
    "        Args:\n",
    "            x (list[float]): List of independent variable values to predict.\n",
    "        \n",
    "        \"\"\"\n",
    "        ######################  TODO  ########################\n",
    "        # Use the formula y = b + m * x to calculate predictions\n",
    "        return [self.slope * xi + self.intercept for xi in x]\n",
    "        ######################  TODO  ########################\n"
   ]
  },
  {
   "cell_type": "markdown",
   "metadata": {},
   "source": [
    "## Training the Model"
   ]
  },
  {
   "cell_type": "code",
   "execution_count": 4,
   "metadata": {},
   "outputs": [
    {
     "name": "stdout",
     "output_type": "stream",
     "text": [
      "MSE is  [2548.07239873]\n"
     ]
    }
   ],
   "source": [
    "diabetes_X, diabetes_y = datasets.load_diabetes(return_X_y=True)\n",
    "\n",
    "# Use only one feature\n",
    "diabetes_X = diabetes_X[:, np.newaxis, 2]\n",
    "\n",
    "# Split the data into training/testing sets\n",
    "diabetes_X_train = diabetes_X[:-20]\n",
    "diabetes_X_test = diabetes_X[-20:]\n",
    "\n",
    "# Split the targets into training/testing sets\n",
    "diabetes_y_train = diabetes_y[:-20]\n",
    "diabetes_y_test = diabetes_y[-20:]\n",
    "\n",
    "######################  TODO  ########################\n",
    "# Objectives:\n",
    "# 1. Train your model using the training data.\n",
    "# 2. Make predictions on the  data\n",
    "# 3. Calculate and print the Mean Squared Error.\n",
    "\n",
    "SLR = SimpleLinearRegression()\n",
    "SLR.fit(diabetes_X_train,diabetes_y_train)\n",
    "y_pred = SLR.predict(diabetes_X_test)\n",
    "mse = (1/len(y_pred))*sum(((y1-y2)**2 for y1,y2 in zip(y_pred,diabetes_y_test) ))\n",
    "print(\"MSE is \",mse)\n",
    "\n",
    "######################  TODO  ########################\n",
    "\n"
   ]
  },
  {
   "cell_type": "markdown",
   "metadata": {},
   "source": [
    "## Plotting the Regression Line and Data Points\n",
    "\n",
    "Once you have implemented the `SimpleLinearRegression` class and trained your model, it is important to visualize the results. This will help you understand how well your regression line fits the original data points.\n",
    "\n",
    "### Objectives:\n",
    "1. Plot the original data points (x, y).\n",
    "2. Plot the regression line using the slope and intercept obtained from your model."
   ]
  },
  {
   "cell_type": "code",
   "execution_count": 5,
   "metadata": {},
   "outputs": [
    {
     "data": {
      "image/png": "[encoded data removed]",
      "text/plain": [
       "<Figure size 640x480 with 1 Axes>"
      ]
     },
     "metadata": {},
     "output_type": "display_data"
    }
   ],
   "source": [
    "######################  TODO  ########################\n",
    "\n",
    "\n",
    "plt.scatter(diabetes_X_test, diabetes_y_test, color='blue', label=\"Data points\")\n",
    "plt.plot(diabetes_X_test, y_pred, color='red', label=\"Regression line\")\n",
    "plt.title(\"Linear Regression\")\n",
    "plt.xlabel(\"X\")\n",
    "plt.ylabel(\"y\")\n",
    "plt.legend()\n",
    "plt.show()\n",
    "\n",
    "######################  TODO  ########################"
   ]
  },
  {
   "cell_type": "markdown",
   "metadata": {},
   "source": [
    "\n",
    "\n",
    "Now you will explore the solution for linear regression when x is a vector. We will first prove the solution mathematically and then implement it in Python.\n",
    "\n",
    "## Prove the Solution\n",
    "\n",
    "### Linear Regression Model\n",
    "\n",
    "$$\n",
    "y = f(x) = \\theta_0 + \\theta_1 x_1 + \\theta_2 x_2 + \\ldots + \\theta_n x_n\n",
    "$$\n",
    "\n",
    "Where:\n",
    "- $ \\theta $ is the vector of parameters (weights),\n",
    "- $ x $ is the feature vector.\n",
    "\n",
    "We utilize the Mean Squared Error (MSE) approach to determine the coefficient $\\theta$ based on a set of sample data. \n",
    "\n",
    "$$\n",
    "MSE = \\frac{1}{m} \\sum_{i=1}^{m} (y_i - f(x))^2\n",
    "$$\n",
    "\n",
    "Where:\n",
    "- $ m $ is the number of samples,\n",
    "- $(x_i, y_i)$ is a given sample data.\n",
    "\n",
    "### Matrix Notation\n",
    "\n",
    "In matrix form, the cost function can be expressed as:\n",
    "\n",
    "$$\n",
    "MSE = \\frac{1}{m} (y - x\\theta)^T (y - x\\theta)\n",
    "$$\n",
    "\n",
    "### Finding the Solution\n",
    "\n",
    "To minimize the cost function, take the derivative with respect to $ \\theta $ and set it to zero:\n",
    "\n",
    "$$\n",
    "\\frac{\\partial MSE}{\\partial \\theta} = -\\frac{2}{m} x^T (y - x\\theta) = 0\n",
    "$$\n",
    "\n",
    "Rearranging gives:\n",
    "\n",
    "$$\n",
    "x^T y = x^T x \\theta\n",
    "$$\n",
    "\n",
    "Finally, solving for $ \\theta $ yields the solution:\n",
    "\n",
    "$$\n",
    "\\theta = (x^T x)^{-1} x^T y\n",
    "$$"
   ]
  },
  {
   "cell_type": "markdown",
   "metadata": {},
   "source": [
    "## Implement the Solution\n",
    "\n",
    "Now that we have proven the solution, implement it in Python.\n",
    "\n",
    "**Note:**  Make sure to use NumPy for matrix operations."
   ]
  },
  {
   "cell_type": "code",
   "execution_count": 6,
   "metadata": {},
   "outputs": [],
   "source": [
    "class LinearRegression:\n",
    "    def __init__(self) -> None:\n",
    "        \"\"\"Initializes the Linear Regression model.\"\"\"\n",
    "        self.theta: np.ndarray = None  # Parameters (weights) will be initialized in fit()\n",
    "\n",
    "    def fit(self, X: np.ndarray, y: np.ndarray) -> None:\n",
    "        \"\"\"\n",
    "        Fits the linear regression model to the training data.\n",
    "\n",
    "        Args:\n",
    "            X (np.ndarray): Feature matrix of shape (m, n) where m is the number of samples\n",
    "                            and n is the number of features.\n",
    "            y (np.ndarray): Target vector of shape (m, 1) where m is the number of samples.\n",
    "        \"\"\"\n",
    "        ######################  TODO  ########################\n",
    "        m = len(X)\n",
    "        X = np.c_[np.ones(m), X]\n",
    "        X_transpose = X.T\n",
    "        self.theta = np.linalg.inv(X_transpose.dot(X)).dot(X_transpose).dot(y)\n",
    "\n",
    "        ######################  TODO  ########################\n",
    "\n",
    "    def predict(self, X: np.ndarray) -> np.ndarray:\n",
    "        \"\"\"\n",
    "        Makes predictions using the learned parameters.\n",
    "\n",
    "        Args:\n",
    "            X (np.ndarray): Feature matrix of shape (m, n) where m is the number of samples\n",
    "                            and n is the number of features.\n",
    "\n",
    "        Returns:\n",
    "            np.ndarray: Predicted values of shape (m, 1).\n",
    "        \"\"\"\n",
    "        ######################  TODO  ########################\n",
    "        m = len(X)\n",
    "        X = np.c_[np.ones(m), X]\n",
    "        return X.dot(self.theta)\n",
    "        ######################  TODO  ########################"
   ]
  },
  {
   "cell_type": "markdown",
   "metadata": {},
   "source": [
    "Next, train the model using the previous dataset while considering three features. Once the training is complete, calculate the Mean Squared Error (MSE) and display the result."
   ]
  },
  {
   "cell_type": "code",
   "execution_count": 7,
   "metadata": {},
   "outputs": [
    {
     "name": "stdout",
     "output_type": "stream",
     "text": [
      "MSE is 2585.663764713473\n"
     ]
    }
   ],
   "source": [
    "diabetes_X, diabetes_y = datasets.load_diabetes(return_X_y=True)\n",
    "\n",
    "# Use only three features\n",
    "diabetes_X = diabetes_X[:, 0:3]\n",
    "\n",
    "######################  TODO  ########################\n",
    "diabetes_X_train = diabetes_X[:-20]\n",
    "diabetes_X_test = diabetes_X[-20:]\n",
    "\n",
    "diabetes_y_train = diabetes_y[:-20]\n",
    "diabetes_y_test = diabetes_y[-20:]\n",
    "\n",
    "LR = LinearRegression()\n",
    "\n",
    "LR.fit(diabetes_X_train, diabetes_y_train)\n",
    "\n",
    "y_pred = LR.predict(diabetes_X_test)\n",
    "\n",
    "mse = mean_squared_error(diabetes_y_test,y_pred)\n",
    "\n",
    "# Print the result\n",
    "print(\"MSE is\", mse)\n",
    "######################  TODO  ########################"
   ]
  },
  {
   "cell_type": "markdown",
   "metadata": {},
   "source": [
    "# Finding the Center of a Dataset by Minimizing Mean Squared Error (MSE)\n",
    "\n",
    "In this part, you will implement a method to find the center of a dataset that minimizes the Mean Squared Error (MSE) between each data point and the center. The center can be thought of as the value that best represents the dataset in terms of minimizing the average squared difference from the data points.\n",
    "\n",
    "**TODO:**\n",
    "1. Formulate the error function.\n",
    "2. Identify the optimal coordinates $x$ and $y$ for the center by applying derivative method.\n",
    "3. Calculate the center for the training data from the previous sections (consider only one feature).\n",
    "4. Plot the data points along with obtained center.\n"
   ]
  },
  {
   "cell_type": "markdown",
   "metadata": {},
   "source": [
    "\n",
    "$$\n",
    "MSE_{\\text{center}} = \\frac{1}{n} \\sum_{i=1}^{n} \\left( (x_i - c_x)^2 + (y_i - c_y)^2 \\right)\n",
    "$$\n",
    "\n",
    "\n",
    "\n",
    "### Taking Derivatives with Respect to \\(c_x\\) and \\(c_y\\)\n",
    "\n",
    "\n",
    "#### Derivative with Respect to \\(x\\):\n",
    "\n",
    "$$\n",
    "\\frac{\\partial}{\\partial c_x} MSE_{\\text{center}} = \\frac{1}{n} \\sum_{i=1}^{n} (-2x_i + 2c_x) = 0\n",
    "$$\n",
    "\n",
    "\n",
    "\n",
    "$$\n",
    "\\sum_{i=1}^{n} x_i - n c_x = 0\n",
    "$$\n",
    "\n",
    "$$\n",
    "c_x = \\frac{1}{n} \\sum_{i=1}^{n} x_i\n",
    "$$\n",
    "\n",
    "#### Derivative with Respect to \\(y\\):\n",
    "\n",
    "$$\n",
    "\\frac{\\partial}{\\partial c_y} MSE_{\\text{center}} = \\frac{1}{n} \\sum_{i=1}^{n} (-2y_i + 2c_y) = 0\n",
    "$$\n",
    "\n",
    "$$\n",
    "\\sum_{i=1}^{n} y_i - n c_y = 0\n",
    "$$\n",
    "\n",
    "$$\n",
    "c_y = \\frac{1}{n} \\sum_{i=1}^{n} y_i\n",
    "$$"
   ]
  },
  {
   "cell_type": "code",
   "execution_count": 8,
   "metadata": {},
   "outputs": [
    {
     "data": {
      "image/png": "[encoded data removed]",
      "text/plain": [
       "<Figure size 640x480 with 1 Axes>"
      ]
     },
     "metadata": {},
     "output_type": "display_data"
    },
    {
     "name": "stdout",
     "output_type": "stream",
     "text": [
      "Center of X: [0.00039047], Center of Y: 153.36255924170615\n"
     ]
    }
   ],
   "source": [
    "\n",
    "class CenterFinder:\n",
    "    def __init__(self) -> None:\n",
    "        \n",
    "        self.c_x: float = 0  \n",
    "        self.c_y: float = 0  \n",
    "\n",
    "    def find_center(self, X: list[float], y: list[float]) -> None:\n",
    "\n",
    "        n = len(X)\n",
    "        \n",
    "        self.c_x = sum(X) / n\n",
    "        self.c_y = sum(y) / n\n",
    "        plt.scatter(X, y, color='blue')\n",
    "        plt.scatter(self.c_x, self.c_y, color='red', label=\"Center\")\n",
    "        plt.title('Data Points and Center')\n",
    "        plt.xlabel('X')\n",
    "        plt.ylabel('Y')\n",
    "        plt.legend()\n",
    "        plt.show()\n",
    "        print(f\"Center of X: {self.c_x}, Center of Y: {self.c_y}\")\n",
    "\n",
    "\n",
    "diabetes_X, diabetes_y = datasets.load_diabetes(return_X_y=True)\n",
    "\n",
    "diabetes_X = diabetes_X[:, 0:1]\n",
    "\n",
    "\n",
    "diabetes_X_train = diabetes_X[:-20]\n",
    "diabetes_X_test = diabetes_X[-20:]\n",
    "\n",
    "diabetes_y_train = diabetes_y[:-20]\n",
    "diabetes_y_test = diabetes_y[-20:]\n",
    "\n",
    "center_finder = CenterFinder()\n",
    "\n",
    "center_finder.find_center(diabetes_X_train, diabetes_y_train)\n",
    "\n"
   ]
  }
 ],
 "metadata": {
  "kernelspec": {
   "display_name": "Python 3",
   "language": "python",
   "name": "python3"
  },
  "language_info": {
   "codemirror_mode": {
    "name": "ipython",
    "version": 3
   },
   "file_extension": ".py",
   "mimetype": "text/x-python",
   "name": "python",
   "nbconvert_exporter": "python",
   "pygments_lexer": "ipython3",
   "version": "3.11.5"
  }
 },
 "nbformat": 4,
 "nbformat_minor": 2
}
